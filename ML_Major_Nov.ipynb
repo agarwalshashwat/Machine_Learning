{
  "nbformat": 4,
  "nbformat_minor": 0,
  "metadata": {
    "kernelspec": {
      "display_name": "Python 3",
      "language": "python",
      "name": "python3"
    },
    "language_info": {
      "codemirror_mode": {
        "name": "ipython",
        "version": 3
      },
      "file_extension": ".py",
      "mimetype": "text/x-python",
      "name": "python",
      "nbconvert_exporter": "python",
      "pygments_lexer": "ipython3",
      "version": "3.8.5"
    },
    "colab": {
      "name": "ML-Major-Nov.ipynb",
      "provenance": [],
      "include_colab_link": true
    }
  },
  "cells": [
    {
      "cell_type": "markdown",
      "metadata": {
        "id": "view-in-github",
        "colab_type": "text"
      },
      "source": [
        "<a href=\"https://colab.research.google.com/github/agarwalshashwat/Machine_Learning/blob/main/ML_Major_Nov.ipynb\" target=\"_parent\"><img src=\"https://colab.research.google.com/assets/colab-badge.svg\" alt=\"Open In Colab\"/></a>"
      ]
    },
    {
      "cell_type": "code",
      "metadata": {
        "id": "aAbivVG606A1"
      },
      "source": [
        "import pandas as pd"
      ],
      "execution_count": 5,
      "outputs": []
    },
    {
      "cell_type": "code",
      "metadata": {
        "id": "SX49ma_r06A_"
      },
      "source": [
        "df = pd.read_csv('Information.csv', encoding = 'latin-1',error_bad_lines=False, engine=\"python\")"
      ],
      "execution_count": 6,
      "outputs": []
    },
    {
      "cell_type": "code",
      "metadata": {
        "id": "v3-mG-9y06BA",
        "colab": {
          "base_uri": "https://localhost:8080/"
        },
        "outputId": "c5cde3c4-1289-474c-c34a-8b87acc0b8be"
      },
      "source": [
        "df.info()"
      ],
      "execution_count": 7,
      "outputs": [
        {
          "output_type": "stream",
          "text": [
            "<class 'pandas.core.frame.DataFrame'>\n",
            "RangeIndex: 17998 entries, 0 to 17997\n",
            "Data columns (total 26 columns):\n",
            " #   Column                 Non-Null Count  Dtype  \n",
            "---  ------                 --------------  -----  \n",
            " 0   _unit_id               17998 non-null  int64  \n",
            " 1   _golden                17998 non-null  bool   \n",
            " 2   _unit_state            17998 non-null  object \n",
            " 3   _trusted_judgments     17998 non-null  int64  \n",
            " 4   _last_judgment_at      17998 non-null  object \n",
            " 5   gender                 17913 non-null  object \n",
            " 6   gender:confidence      17975 non-null  float64\n",
            " 7   profile_yn             17998 non-null  object \n",
            " 8   profile_yn:confidence  17998 non-null  float64\n",
            " 9   created                17998 non-null  object \n",
            " 10  description            14663 non-null  object \n",
            " 11  fav_number             17998 non-null  int64  \n",
            " 12  gender_gold            0 non-null      float64\n",
            " 13  link_color             17998 non-null  object \n",
            " 14  name                   17998 non-null  object \n",
            " 15  profile_yn_gold        0 non-null      float64\n",
            " 16  profileimage           17997 non-null  object \n",
            " 17  retweet_count          17997 non-null  float64\n",
            " 18  sidebar_color          17997 non-null  object \n",
            " 19  text                   17997 non-null  object \n",
            " 20  tweet_coord            150 non-null    object \n",
            " 21  tweet_count            17997 non-null  float64\n",
            " 22  tweet_created          17997 non-null  object \n",
            " 23  tweet_id               17997 non-null  float64\n",
            " 24  tweet_location         11293 non-null  object \n",
            " 25  user_timezone          11005 non-null  object \n",
            "dtypes: bool(1), float64(7), int64(3), object(15)\n",
            "memory usage: 3.5+ MB\n"
          ],
          "name": "stdout"
        }
      ]
    },
    {
      "cell_type": "code",
      "metadata": {
        "id": "PmGTwpYs06BB"
      },
      "source": [
        "df = df.drop(['_unit_id','_golden','_last_judgment_at','_unit_state','_trusted_judgments','profile_yn','profile_yn:confidence','created','fav_number','gender_gold','link_color','name','profile_yn_gold','profileimage','retweet_count','sidebar_color','tweet_coord','tweet_count','tweet_created','tweet_id','tweet_location','user_timezone'], axis = 1) "
      ],
      "execution_count": 8,
      "outputs": []
    },
    {
      "cell_type": "code",
      "metadata": {
        "id": "B6dAajpz06BB"
      },
      "source": [
        "df = df[df['gender:confidence'] == 1]"
      ],
      "execution_count": 9,
      "outputs": []
    },
    {
      "cell_type": "code",
      "metadata": {
        "id": "WpojTvny06BC"
      },
      "source": [
        "male = df[df['gender'] == 'male']\n",
        "female = df[df['gender'] == 'female']\n",
        "df = male.append(female)"
      ],
      "execution_count": 10,
      "outputs": []
    },
    {
      "cell_type": "code",
      "metadata": {
        "id": "tyBWZmb006BD",
        "colab": {
          "base_uri": "https://localhost:8080/",
          "height": 204
        },
        "outputId": "d6d52e29-1f22-41c0-c8a7-c0911f7d50d3"
      },
      "source": [
        "df.head()"
      ],
      "execution_count": 11,
      "outputs": [
        {
          "output_type": "execute_result",
          "data": {
            "text/html": [
              "<div>\n",
              "<style scoped>\n",
              "    .dataframe tbody tr th:only-of-type {\n",
              "        vertical-align: middle;\n",
              "    }\n",
              "\n",
              "    .dataframe tbody tr th {\n",
              "        vertical-align: top;\n",
              "    }\n",
              "\n",
              "    .dataframe thead th {\n",
              "        text-align: right;\n",
              "    }\n",
              "</style>\n",
              "<table border=\"1\" class=\"dataframe\">\n",
              "  <thead>\n",
              "    <tr style=\"text-align: right;\">\n",
              "      <th></th>\n",
              "      <th>gender</th>\n",
              "      <th>gender:confidence</th>\n",
              "      <th>description</th>\n",
              "      <th>text</th>\n",
              "    </tr>\n",
              "  </thead>\n",
              "  <tbody>\n",
              "    <tr>\n",
              "      <th>0</th>\n",
              "      <td>male</td>\n",
              "      <td>1.0</td>\n",
              "      <td>i sing my own rhythm.</td>\n",
              "      <td>Robbie E Responds To Critics After Win Against...</td>\n",
              "    </tr>\n",
              "    <tr>\n",
              "      <th>1</th>\n",
              "      <td>male</td>\n",
              "      <td>1.0</td>\n",
              "      <td>I'm the author of novels filled with family dr...</td>\n",
              "      <td>ÛÏIt felt like they were my friends and I was...</td>\n",
              "    </tr>\n",
              "    <tr>\n",
              "      <th>3</th>\n",
              "      <td>male</td>\n",
              "      <td>1.0</td>\n",
              "      <td>Mobile guy.  49ers, Shazam, Google, Kleiner Pe...</td>\n",
              "      <td>Hi @JordanSpieth - Looking at the url - do you...</td>\n",
              "    </tr>\n",
              "    <tr>\n",
              "      <th>7</th>\n",
              "      <td>male</td>\n",
              "      <td>1.0</td>\n",
              "      <td>The secret of getting ahead is getting started.</td>\n",
              "      <td>Gala Bingo clubs bought for å£241m: The UK's l...</td>\n",
              "    </tr>\n",
              "    <tr>\n",
              "      <th>17</th>\n",
              "      <td>male</td>\n",
              "      <td>1.0</td>\n",
              "      <td>Over enthusiastic F1 fan.  Model collector, mu...</td>\n",
              "      <td>@coolyazzy94 Ditto - I'm still learning the fa...</td>\n",
              "    </tr>\n",
              "  </tbody>\n",
              "</table>\n",
              "</div>"
            ],
            "text/plain": [
              "   gender  ...                                               text\n",
              "0    male  ...  Robbie E Responds To Critics After Win Against...\n",
              "1    male  ...  ÛÏIt felt like they were my friends and I was...\n",
              "3    male  ...  Hi @JordanSpieth - Looking at the url - do you...\n",
              "7    male  ...  Gala Bingo clubs bought for å£241m: The UK's l...\n",
              "17   male  ...  @coolyazzy94 Ditto - I'm still learning the fa...\n",
              "\n",
              "[5 rows x 4 columns]"
            ]
          },
          "metadata": {
            "tags": []
          },
          "execution_count": 11
        }
      ]
    },
    {
      "cell_type": "code",
      "metadata": {
        "id": "JLzlmZ7u06BE"
      },
      "source": [
        "df['description'] = df['description'].astype(str)\n",
        "df['text'] = df['text'].astype(str)"
      ],
      "execution_count": 12,
      "outputs": []
    },
    {
      "cell_type": "code",
      "metadata": {
        "id": "zGxIaIMW06BE"
      },
      "source": [
        "df['data'] = df[['description', 'text']].apply(lambda x: ' '.join(x), axis=1)"
      ],
      "execution_count": 13,
      "outputs": []
    },
    {
      "cell_type": "code",
      "metadata": {
        "id": "CTJpTy6k06BF"
      },
      "source": [
        "df = df.reset_index()"
      ],
      "execution_count": 14,
      "outputs": []
    },
    {
      "cell_type": "code",
      "metadata": {
        "id": "MERpovvG06BF"
      },
      "source": [
        "del df['index']"
      ],
      "execution_count": 15,
      "outputs": []
    },
    {
      "cell_type": "code",
      "metadata": {
        "id": "vcmnYSft06BG",
        "colab": {
          "base_uri": "https://localhost:8080/",
          "height": 204
        },
        "outputId": "3b9e9b62-8bcc-4ab2-a89f-84dc7a0a8e46"
      },
      "source": [
        "df.head()"
      ],
      "execution_count": 16,
      "outputs": [
        {
          "output_type": "execute_result",
          "data": {
            "text/html": [
              "<div>\n",
              "<style scoped>\n",
              "    .dataframe tbody tr th:only-of-type {\n",
              "        vertical-align: middle;\n",
              "    }\n",
              "\n",
              "    .dataframe tbody tr th {\n",
              "        vertical-align: top;\n",
              "    }\n",
              "\n",
              "    .dataframe thead th {\n",
              "        text-align: right;\n",
              "    }\n",
              "</style>\n",
              "<table border=\"1\" class=\"dataframe\">\n",
              "  <thead>\n",
              "    <tr style=\"text-align: right;\">\n",
              "      <th></th>\n",
              "      <th>gender</th>\n",
              "      <th>gender:confidence</th>\n",
              "      <th>description</th>\n",
              "      <th>text</th>\n",
              "      <th>data</th>\n",
              "    </tr>\n",
              "  </thead>\n",
              "  <tbody>\n",
              "    <tr>\n",
              "      <th>0</th>\n",
              "      <td>male</td>\n",
              "      <td>1.0</td>\n",
              "      <td>i sing my own rhythm.</td>\n",
              "      <td>Robbie E Responds To Critics After Win Against...</td>\n",
              "      <td>i sing my own rhythm. Robbie E Responds To Cri...</td>\n",
              "    </tr>\n",
              "    <tr>\n",
              "      <th>1</th>\n",
              "      <td>male</td>\n",
              "      <td>1.0</td>\n",
              "      <td>I'm the author of novels filled with family dr...</td>\n",
              "      <td>ÛÏIt felt like they were my friends and I was...</td>\n",
              "      <td>I'm the author of novels filled with family dr...</td>\n",
              "    </tr>\n",
              "    <tr>\n",
              "      <th>2</th>\n",
              "      <td>male</td>\n",
              "      <td>1.0</td>\n",
              "      <td>Mobile guy.  49ers, Shazam, Google, Kleiner Pe...</td>\n",
              "      <td>Hi @JordanSpieth - Looking at the url - do you...</td>\n",
              "      <td>Mobile guy.  49ers, Shazam, Google, Kleiner Pe...</td>\n",
              "    </tr>\n",
              "    <tr>\n",
              "      <th>3</th>\n",
              "      <td>male</td>\n",
              "      <td>1.0</td>\n",
              "      <td>The secret of getting ahead is getting started.</td>\n",
              "      <td>Gala Bingo clubs bought for å£241m: The UK's l...</td>\n",
              "      <td>The secret of getting ahead is getting started...</td>\n",
              "    </tr>\n",
              "    <tr>\n",
              "      <th>4</th>\n",
              "      <td>male</td>\n",
              "      <td>1.0</td>\n",
              "      <td>Over enthusiastic F1 fan.  Model collector, mu...</td>\n",
              "      <td>@coolyazzy94 Ditto - I'm still learning the fa...</td>\n",
              "      <td>Over enthusiastic F1 fan.  Model collector, mu...</td>\n",
              "    </tr>\n",
              "  </tbody>\n",
              "</table>\n",
              "</div>"
            ],
            "text/plain": [
              "  gender  ...                                               data\n",
              "0   male  ...  i sing my own rhythm. Robbie E Responds To Cri...\n",
              "1   male  ...  I'm the author of novels filled with family dr...\n",
              "2   male  ...  Mobile guy.  49ers, Shazam, Google, Kleiner Pe...\n",
              "3   male  ...  The secret of getting ahead is getting started...\n",
              "4   male  ...  Over enthusiastic F1 fan.  Model collector, mu...\n",
              "\n",
              "[5 rows x 5 columns]"
            ]
          },
          "metadata": {
            "tags": []
          },
          "execution_count": 16
        }
      ]
    },
    {
      "cell_type": "code",
      "metadata": {
        "colab": {
          "base_uri": "https://localhost:8080/"
        },
        "id": "N0RWZKBR2HP2",
        "outputId": "1851feed-3f1b-4577-ac03-8c76ca266400"
      },
      "source": [
        "import nltk\r\n",
        "nltk.download('stopwords')\r\n",
        "nltk.download('wordnet')"
      ],
      "execution_count": 24,
      "outputs": [
        {
          "output_type": "stream",
          "text": [
            "[nltk_data] Downloading package stopwords to /root/nltk_data...\n",
            "[nltk_data]   Package stopwords is already up-to-date!\n",
            "[nltk_data] Downloading package wordnet to /root/nltk_data...\n",
            "[nltk_data]   Unzipping corpora/wordnet.zip.\n"
          ],
          "name": "stdout"
        },
        {
          "output_type": "execute_result",
          "data": {
            "text/plain": [
              "True"
            ]
          },
          "metadata": {
            "tags": []
          },
          "execution_count": 24
        }
      ]
    },
    {
      "cell_type": "code",
      "metadata": {
        "id": "_k0OVzrr06BH"
      },
      "source": [
        "import re\n",
        "from nltk.corpus import stopwords\n",
        "from nltk.stem import WordNetLemmatizer"
      ],
      "execution_count": 25,
      "outputs": []
    },
    {
      "cell_type": "code",
      "metadata": {
        "id": "MIbHWF0g06BH"
      },
      "source": [
        "lemma = WordNetLemmatizer()"
      ],
      "execution_count": 26,
      "outputs": []
    },
    {
      "cell_type": "code",
      "metadata": {
        "id": "xNBy5hOz06BH"
      },
      "source": [
        "corpus = []\n",
        "for i in range(0,len(df)):\n",
        "    words = re.sub('[^a-zA-Z]',' ',df['data'][i])\n",
        "    words = words.lower()\n",
        "    words = words.split()\n",
        "    words = [lemma.lemmatize(word) for word in words if word not in stopwords.words('english')]\n",
        "    words = ' '.join(words)\n",
        "    corpus.append(words)"
      ],
      "execution_count": 27,
      "outputs": []
    },
    {
      "cell_type": "code",
      "metadata": {
        "id": "Rbpj1zxX06BI"
      },
      "source": [
        "from sklearn.feature_extraction.text import TfidfVectorizer\n",
        "tfvec= TfidfVectorizer(max_features=5000)"
      ],
      "execution_count": 28,
      "outputs": []
    },
    {
      "cell_type": "code",
      "metadata": {
        "id": "AU2nmlAO06BJ"
      },
      "source": [
        "x = tfvec.fit_transform(corpus).toarray()"
      ],
      "execution_count": 29,
      "outputs": []
    },
    {
      "cell_type": "code",
      "metadata": {
        "id": "jNkBQFNQ06BJ"
      },
      "source": [
        "from sklearn.preprocessing import LabelEncoder\n",
        "le = LabelEncoder()"
      ],
      "execution_count": 30,
      "outputs": []
    },
    {
      "cell_type": "code",
      "metadata": {
        "id": "1k4PzSDx06BJ"
      },
      "source": [
        "df['gender_label'] = le.fit_transform(df['gender'])"
      ],
      "execution_count": 31,
      "outputs": []
    },
    {
      "cell_type": "code",
      "metadata": {
        "id": "PvpaPw1_06BK"
      },
      "source": [
        "y = df[['gender_label']].values"
      ],
      "execution_count": 32,
      "outputs": []
    },
    {
      "cell_type": "code",
      "metadata": {
        "id": "vHF2fTx-06BK"
      },
      "source": [
        "from sklearn.model_selection import train_test_split"
      ],
      "execution_count": 33,
      "outputs": []
    },
    {
      "cell_type": "code",
      "metadata": {
        "id": "DFc6CJT706BL"
      },
      "source": [
        "x_train, x_test, y_train, y_test = train_test_split(x,y, train_size=0.8)"
      ],
      "execution_count": 34,
      "outputs": []
    },
    {
      "cell_type": "code",
      "metadata": {
        "id": "CgvNXNO106BL",
        "colab": {
          "base_uri": "https://localhost:8080/"
        },
        "outputId": "37976a12-31a3-4d75-b69f-9d18f1e06b67"
      },
      "source": [
        "x_train.shape, x_test.shape, y_train.shape, y_test.shape"
      ],
      "execution_count": 35,
      "outputs": [
        {
          "output_type": "execute_result",
          "data": {
            "text/plain": [
              "((7120, 5000), (1780, 5000), (7120, 1), (1780, 1))"
            ]
          },
          "metadata": {
            "tags": []
          },
          "execution_count": 35
        }
      ]
    },
    {
      "cell_type": "code",
      "metadata": {
        "id": "Yngk1oIw06BM"
      },
      "source": [
        "from sklearn.naive_bayes import MultinomialNB"
      ],
      "execution_count": 36,
      "outputs": []
    },
    {
      "cell_type": "code",
      "metadata": {
        "id": "VZRJyVh606BM",
        "colab": {
          "base_uri": "https://localhost:8080/"
        },
        "outputId": "a1c1c96e-2943-4db3-c177-918626da27ba"
      },
      "source": [
        "gender_detect_nb = MultinomialNB().fit(x_train,y_train)"
      ],
      "execution_count": 37,
      "outputs": [
        {
          "output_type": "stream",
          "text": [
            "/usr/local/lib/python3.6/dist-packages/sklearn/utils/validation.py:760: DataConversionWarning: A column-vector y was passed when a 1d array was expected. Please change the shape of y to (n_samples, ), for example using ravel().\n",
            "  y = column_or_1d(y, warn=True)\n"
          ],
          "name": "stderr"
        }
      ]
    },
    {
      "cell_type": "code",
      "metadata": {
        "id": "QqA-XZ3N06BN"
      },
      "source": [
        "y_pred_nb = gender_detect_nb.predict(x_test)"
      ],
      "execution_count": 38,
      "outputs": []
    },
    {
      "cell_type": "code",
      "metadata": {
        "id": "mdC5__sf06BN"
      },
      "source": [
        "from sklearn.metrics import confusion_matrix"
      ],
      "execution_count": 39,
      "outputs": []
    },
    {
      "cell_type": "code",
      "metadata": {
        "id": "Z_zfDFPs06BO"
      },
      "source": [
        "acurracy_cm = confusion_matrix(y_test,y_pred_nb)"
      ],
      "execution_count": 40,
      "outputs": []
    },
    {
      "cell_type": "code",
      "metadata": {
        "id": "DhJwp7WD06BO",
        "colab": {
          "base_uri": "https://localhost:8080/"
        },
        "outputId": "3e35ad3c-3db4-4d00-c7e7-9f4647613b46"
      },
      "source": [
        "acurracy_cm"
      ],
      "execution_count": 41,
      "outputs": [
        {
          "output_type": "execute_result",
          "data": {
            "text/plain": [
              "array([[762, 186],\n",
              "       [368, 464]])"
            ]
          },
          "metadata": {
            "tags": []
          },
          "execution_count": 41
        }
      ]
    },
    {
      "cell_type": "code",
      "metadata": {
        "id": "d4kzj05z06BP"
      },
      "source": [
        "from sklearn.metrics import accuracy_score"
      ],
      "execution_count": 42,
      "outputs": []
    },
    {
      "cell_type": "code",
      "metadata": {
        "id": "wSSuugnV06BP",
        "colab": {
          "base_uri": "https://localhost:8080/"
        },
        "outputId": "90d96628-7e61-4ac7-817e-d9480c19d3ff"
      },
      "source": [
        "accuracy_score(y_test,y_pred_nb)"
      ],
      "execution_count": 43,
      "outputs": [
        {
          "output_type": "execute_result",
          "data": {
            "text/plain": [
              "0.6887640449438203"
            ]
          },
          "metadata": {
            "tags": []
          },
          "execution_count": 43
        }
      ]
    },
    {
      "cell_type": "code",
      "metadata": {
        "id": "BTQgSGN506BQ"
      },
      "source": [
        ""
      ],
      "execution_count": null,
      "outputs": []
    }
  ]
}